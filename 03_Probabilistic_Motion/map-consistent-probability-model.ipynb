{
 "cells": [
  {
   "cell_type": "markdown",
   "metadata": {},
   "source": [
    "# Map Consistent Probability Model"
   ]
  },
  {
   "cell_type": "code",
   "execution_count": 1,
   "metadata": {},
   "outputs": [],
   "source": [
    "import numpy as np\n",
    "import matplotlib.pyplot as plt\n",
    "import matplotlib.patches as patches\n",
    "%matplotlib inline"
   ]
  },
  {
   "cell_type": "code",
   "execution_count": 2,
   "metadata": {},
   "outputs": [],
   "source": [
    "init_pos = np.array([0,0,np.pi/4])\n",
    "dest = np.array([4,4,np.pi/4])\n",
    "points_data = np.tile(init_pos,(500,1))\n",
    "params = (0.02, 0.02, 0.02, 0.02)"
   ]
  },
  {
   "cell_type": "markdown",
   "metadata": {},
   "source": [
    "## Main Function"
   ]
  },
  {
   "cell_type": "code",
   "execution_count": 3,
   "metadata": {},
   "outputs": [],
   "source": [
    "def get_new_points(original_pos, pos_delta, params, ideal_pos, check_map = False):\n",
    "    trans = np.sqrt(pos_delta[0]**2 + pos_delta[1]**2)\n",
    "    rot1 = np.arctan2(pos_delta[1], pos_delta[0]) - ideal_pos[2]\n",
    "    rot2 = pos_delta[2]-rot1\n",
    "    alpha1, alpha2, alpha3, alpha4 = params\n",
    "    # print(alpha1, alpha2, alpha3, alpha4)\n",
    "    stdv1 = alpha1*np.abs(rot1) + alpha2*trans\n",
    "    stdv2 = alpha3*trans + alpha4*(np.abs(rot1)+np.abs(rot2))\n",
    "    stdv3 = alpha1*np.abs(rot2) + alpha2*trans\n",
    "    stdv = [stdv1, stdv2, stdv3]\n",
    "    delta = [rot1, trans, rot2]\n",
    "    result = randomly_sample(original_pos, stdv, delta)\n",
    "    if check_map:\n",
    "        while True:\n",
    "            check_result = np.apply_along_axis(map_check,arr=result,axis=1)\n",
    "            if np.any(check_result):\n",
    "                result[np.where(check_result)] = randomly_sample(original_pos[np.where(check_result)], stdv, delta)\n",
    "                # print(result[np.where(check_result)])\n",
    "            else:\n",
    "                break\n",
    "    ideal_pos = np.array(ideal_pos + np.array(pos_delta, dtype=float))\n",
    "    return result, ideal_pos"
   ]
  },
  {
   "cell_type": "code",
   "execution_count": 4,
   "metadata": {},
   "outputs": [],
   "source": [
    "def randomly_sample(pos_data, stdv, delta):\n",
    "    size_points = pos_data.shape[0]\n",
    "    rot1, trans, rot2 = delta\n",
    "    stdv1, stdv2, stdv3 = stdv\n",
    "    rot1_tilta = rot1*np.ones(size_points) + np.random.normal(scale=stdv1, size=size_points)\n",
    "    trans_tilta = trans*np.ones(size_points) + np.random.normal(scale=stdv2, size=size_points)\n",
    "    rot2_tilta = rot2*np.ones(size_points) + np.random.normal(scale=stdv3, size=size_points)\n",
    "    x_prime = pos_data[:,0] + trans_tilta*np.cos(pos_data[:,2]+rot1_tilta)\n",
    "    y_prime = pos_data[:,1] + trans_tilta*np.sin(pos_data[:,2]+rot1_tilta)\n",
    "    theta_prime = pos_data[:,2] + rot1_tilta + rot2_tilta\n",
    "    result = np.stack((x_prime,y_prime,theta_prime), axis = 1)\n",
    "    return result"
   ]
  },
  {
   "cell_type": "code",
   "execution_count": 5,
   "metadata": {},
   "outputs": [],
   "source": [
    "def map_check(point):\n",
    "    if point[0]>=3 and point[0]<=5 and point[1]>=3.8 and point[1]<=4.2:\n",
    "        return True\n",
    "    else:\n",
    "        return False"
   ]
  },
  {
   "cell_type": "markdown",
   "metadata": {},
   "source": [
    "## Result Figure"
   ]
  },
  {
   "cell_type": "code",
   "execution_count": 6,
   "metadata": {},
   "outputs": [],
   "source": [
    "result1 = get_new_points(points_data, dest-init_pos, params, init_pos)\n",
    "result2 = get_new_points(points_data, dest-init_pos, params, init_pos, check_map=True)"
   ]
  },
  {
   "cell_type": "code",
   "execution_count": 7,
   "metadata": {
    "scrolled": true
   },
   "outputs": [
    {
     "data": {
      "image/png": "[encoded data removed]",
      "text/plain": [
       "<Figure size 720x720 with 1 Axes>"
      ]
     },
     "metadata": {},
     "output_type": "display_data"
    }
   ],
   "source": [
    "plt.figure(figsize=(10,10))\n",
    "plt.scatter(init_pos[0], init_pos[1])\n",
    "plt.scatter(result1[0][:,0], result1[0][:,1], c='red', s=1)\n",
    "plt.show()"
   ]
  },
  {
   "cell_type": "code",
   "execution_count": 8,
   "metadata": {},
   "outputs": [
    {
     "data": {
      "image/png": "[encoded data removed]",
      "text/plain": [
       "<Figure size 720x720 with 1 Axes>"
      ]
     },
     "metadata": {},
     "output_type": "display_data"
    }
   ],
   "source": [
    "plt.figure(figsize=(10,10))\n",
    "plt.scatter(init_pos[0], init_pos[1])\n",
    "plt.scatter(result2[0][:,0], result2[0][:,1], c='red', s=1)\n",
    "ax1 = plt.gca()\n",
    "ax1.add_patch(\n",
    "    patches.Rectangle(\n",
    "        (3, 3.8),   # (x,y)\n",
    "        2,          # width\n",
    "        0.4,          # height\n",
    "    )\n",
    ")\n",
    "plt.show()"
   ]
  }
 ],
 "metadata": {
  "kernelspec": {
   "display_name": "Python 3",
   "language": "python",
   "name": "python3"
  },
  "language_info": {
   "codemirror_mode": {
    "name": "ipython",
    "version": 3
   },
   "file_extension": ".py",
   "mimetype": "text/x-python",
   "name": "python",
   "nbconvert_exporter": "python",
   "pygments_lexer": "ipython3",
   "version": "3.5.2"
  }
 },
 "nbformat": 4,
 "nbformat_minor": 2
}
